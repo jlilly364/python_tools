{
 "cells": [
  {
   "attachments": {
    "python-logo-2.png": {
     "image/png": "[encoded data removed]"
    }
   },
   "cell_type": "markdown",
   "id": "5b374ebc",
   "metadata": {},
   "source": [
    "# An introduction to <a href=\"https://www.python.org/about/gettingstarted/\">Python</a> ![python-logo-2.png](attachment:python-logo-2.png)\n",
    "(An open-source object-oriented programming language:)"
   ]
  },
  {
   "cell_type": "markdown",
   "id": "eec004f3",
   "metadata": {},
   "source": [
    "# The Basics"
   ]
  },
  {
   "cell_type": "markdown",
   "id": "2ecffe6d",
   "metadata": {},
   "source": [
    "Python does not need to be compiled, then run like some languages (e.g. C, C++).\n",
    "Python compiles and executes at once when you run your code!"
   ]
  },
  {
   "attachments": {
    "anaconda-logo.png": {
     "image/png": "[encoded data removed]"
    }
   },
   "cell_type": "markdown",
   "id": "2e762ec8",
   "metadata": {},
   "source": [
    "## Installing Python\n",
    "### a) Personal Device\n",
    "If your personal machine does not have Python pre-installed (many do these days), I'd recommend downloading <a href=\"https://www.anaconda.com/\">Anaconda</a>. It's an all-in-one resource that maintains your Python packages and comes with a variety of GUIs to write code in (e.g. Spyder, Jupyter Notebook)![anaconda-logo.png](attachment:anaconda-logo.png)\n",
    "### b) UWyo Desktops\n",
    "The UWyo Desktops already have Anaconda/Python installed. To open one of the Anaconda GUIs or run a Python script (.py file):\n",
    "1) Open a terminal (Ctrl+Alt+t on many computers or right-click desktop and \"Open Terminal\")<br><br>\n",
    "2) Type bash --> You should then see something like: (base) bash-4.2\\\\$<br><br>\n",
    "3a) Open application of your choice by typing: spyder & or jupyter notebook & <i>(etc.)</i><br><br>\n",
    "3b) Or to run a script: python script.py"
   ]
  },
  {
   "cell_type": "markdown",
   "id": "689f885c",
   "metadata": {},
   "source": [
    "## Python script files\n",
    "### a) Jupyter Notebooks (.ipynb notebooks)\n",
    "Jupyter Notebooks are great tools for writing code piece-wise.<br><br> You can write code in \"cells\" which you can run individually (Shift+Enter) or in sequence (see \"Cell\" tab in Jupyter Notebook toolbar). <br><br> You can also create <a href=\"https://jupyter-notebook.readthedocs.io/en/stable/examples/Notebook/Working%20With%20Markdown%20Cells.html\">\"Markdown\"</a> cells (Esc+m) to write non-code in the notebook which also allows you to use html (\\<br>) and LaTeX ($\\alpha$) syntax\n",
    "### b) .py files (made with Spyder or any plain text editor)\n",
    ".py files are the bread and butter of developing Python code. <br><br>You can use any text editor (gedit, nedit, Notepad) or GUI (Spyder, PyCharm) to write scripts and then call <i> python script.py </i> to execute that script.<br><br> Scripts are also great because they can be imported by other scripts (or notebooks) to use different functions across different codes. (<i>import script1.py</i>) <br></br> To delete a cell, you can use Esc+d,d or, in the toolbar, \"Edit -> Delete Cells\""
   ]
  },
  {
   "cell_type": "markdown",
   "id": "edb8893a",
   "metadata": {},
   "source": [
    "## <a href=\"https://www.w3schools.com/python/python_datatypes.asp\">Data Types</a>"
   ]
  },
  {
   "cell_type": "markdown",
   "id": "04772fab",
   "metadata": {},
   "source": [
    "In Python, you don't need to declare variable types. You can just declare variables and the program will automatically assign/assess its data type.<br><br>Some example data types are:"
   ]
  },
  {
   "cell_type": "code",
   "execution_count": null,
   "id": "770b7238",
   "metadata": {},
   "outputs": [],
   "source": [
    "# Integers\n",
    "a = 2\n",
    "print(type(a))\n",
    "\n",
    "# Floats (decimals)\n",
    "b = 2.0\n",
    "print(type(b))\n",
    "\n",
    "# Strings (words)\n",
    "c = 'string'\n",
    "print(type(c))\n",
    "\n",
    "# Booleans (True/False values)\n",
    "d, e = True,False\n",
    "print(type(d),type(e))"
   ]
  },
  {
   "cell_type": "markdown",
   "id": "8d72c0b4",
   "metadata": {},
   "source": [
    "You can also assign data types to variables and/or convert between certain types:"
   ]
  },
  {
   "cell_type": "code",
   "execution_count": null,
   "id": "c2a8bdab",
   "metadata": {},
   "outputs": [],
   "source": [
    "# Integer to float\n",
    "print(float(a))\n",
    "\n",
    "# Float to integer\n",
    "print(int(b))"
   ]
  },
  {
   "cell_type": "markdown",
   "id": "8a9d9f85",
   "metadata": {},
   "source": [
    "## <a href=\"https://www.tutorialspoint.com/python/python_basic_operators.htm\">Math Operations</a>"
   ]
  },
  {
   "cell_type": "code",
   "execution_count": null,
   "id": "37155a3d",
   "metadata": {},
   "outputs": [],
   "source": [
    "# Addition\n",
    "print(2+2)\n",
    "\n",
    "# Subtraction\n",
    "print(2-2)\n",
    "\n",
    "# Multiplication\n",
    "print(2*2)\n",
    "\n",
    "# Division --> Returns floating point (i.e. decimal number)\n",
    "print(2/2)"
   ]
  },
  {
   "cell_type": "code",
   "execution_count": null,
   "id": "1195db5e",
   "metadata": {},
   "outputs": [],
   "source": [
    "# Exponents\n",
    "print(2**3)\n",
    "\n",
    "# Modulus (i.e. remainder) --> Good for checking if second number is factor of first (and evens/odds)\n",
    "print(4%3)\n",
    "\n",
    "# Floor division --> Does NOT return floating point\n",
    "print(5//2)"
   ]
  },
  {
   "cell_type": "markdown",
   "id": "aafaf0d7",
   "metadata": {},
   "source": [
    "## Packages/Modules"
   ]
  },
  {
   "cell_type": "code",
   "execution_count": null,
   "id": "eecf5399",
   "metadata": {},
   "outputs": [],
   "source": []
  }
 ],
 "metadata": {
  "kernelspec": {
   "display_name": "Python 3 (ipykernel)",
   "language": "python",
   "name": "python3"
  },
  "language_info": {
   "codemirror_mode": {
    "name": "ipython",
    "version": 3
   },
   "file_extension": ".py",
   "mimetype": "text/x-python",
   "name": "python",
   "nbconvert_exporter": "python",
   "pygments_lexer": "ipython3",
   "version": "3.9.7"
  }
 },
 "nbformat": 4,
 "nbformat_minor": 5
}
